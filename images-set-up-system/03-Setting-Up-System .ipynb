{
 "cells": [
  {
   "cell_type": "markdown",
   "metadata": {},
   "source": [
    "## Welcome to Setting Up Your System\n",
    "\n",
    "Due to the computationally intensive tasks required by QIIME2, our VM needs to be set-up in a certain way.\n",
    "\n",
    "### A. Thinking about the file system\n",
    "\n",
    "The file system is part of the operating system of a computer that is responsible for managing files and directories. It organizes our data into files, which hold information, and directories (also called “folders”), which hold files or other directories.\n",
    "\n",
    "Below is a cartoon of how the Jupyter Notebook works. The system is comprised of the kernel, notebook server and web browser.\n",
    "\n",
    "<img src=\"https://jupyter.readthedocs.io/en/latest/_images/notebook_components.png\" width=\"500\">\n",
    "\n",
    "\n",
    "Running the Jupyter Notebook occurs within a web browser. No programs are installed on the local computer. The notebook communicates to the notebook server which executes the commands or scripts on the Kernel. All the data we use and generate are stored on the system (Atmosphere Cloud Computing) that supports the Kernel.\n",
    "\n",
    "\n",
    "To check our current directory on our virtual machine, use `pwd`:"
   ]
  },
  {
   "cell_type": "code",
   "execution_count": null,
   "metadata": {},
   "outputs": [],
   "source": []
  },
  {
   "cell_type": "markdown",
   "metadata": {},
   "source": [
    "Our current directory is `/home/CYVERSE-USERNAME/microbiome-data`. We need to navigate to our `root` `/` directory to get into the `scratch` directory.\n",
    "\n",
    "_Note: if youre current directory is `/home/CYVERSE-USERNAME/`, you will need to only navigate two directories up. and use only `cd ../..` below._\n",
    "\n",
    "Using the change directory `cd` command, we need to navigate three directories up. We can use the `..` to move up. \n",
    "\n",
    "Type the command:\n",
    "```\n",
    "cd ../../..\n",
    "```"
   ]
  },
  {
   "cell_type": "code",
   "execution_count": null,
   "metadata": {},
   "outputs": [],
   "source": []
  },
  {
   "cell_type": "markdown",
   "metadata": {},
   "source": [
    "To have the command up above made sense. We are currently in the `microbiome-data` directory. We need to move up one directory into `your-CyVerse-username` and up into `root` directory.\n",
    "\n",
    "<img src=\"https://raw.githubusercontent.com/joslynnlee/qiime2-workflow-cyverse/master/images-set-up-system/filesystem-setup.jpg\" width=\"500\">\n",
    "\n",
    "\n",
    "We know we are in `root` when we see the `/` slash when we print our working directory:"
   ]
  },
  {
   "cell_type": "code",
   "execution_count": null,
   "metadata": {},
   "outputs": [],
   "source": []
  },
  {
   "cell_type": "markdown",
   "metadata": {},
   "source": [
    "Here we can use the `ls` list command to see the available files and directories in `root`:"
   ]
  },
  {
   "cell_type": "code",
   "execution_count": null,
   "metadata": {},
   "outputs": [],
   "source": []
  },
  {
   "cell_type": "markdown",
   "metadata": {},
   "source": [
    "From the above printed output, we see the `scratch` directory!\n",
    "\n",
    "Change into the `scratch` directory using `cd`:"
   ]
  },
  {
   "cell_type": "code",
   "execution_count": null,
   "metadata": {},
   "outputs": [],
   "source": []
  },
  {
   "cell_type": "markdown",
   "metadata": {},
   "source": [
    "List the contents found in the `scratch` directory:"
   ]
  },
  {
   "cell_type": "code",
   "execution_count": null,
   "metadata": {},
   "outputs": [],
   "source": []
  },
  {
   "cell_type": "markdown",
   "metadata": {},
   "source": [
    "Let's generate a `tmp` file in the scratch directory. Using the `mkdir` make directory command:"
   ]
  },
  {
   "cell_type": "code",
   "execution_count": null,
   "metadata": {},
   "outputs": [],
   "source": []
  },
  {
   "cell_type": "markdown",
   "metadata": {},
   "source": [
    "Using the `ls` command, list the contents in the directory. We should see the `tmp` file we just created."
   ]
  },
  {
   "cell_type": "code",
   "execution_count": null,
   "metadata": {},
   "outputs": [],
   "source": []
  },
  {
   "cell_type": "markdown",
   "metadata": {},
   "source": [
    "We now need to copy a few files into the `scratch` directory:\n",
    "\n",
    "- The jupyter notebook: 04-QIIME2-workflow.ipynb\n",
    "- The directory with files: 2018\n",
    "\n",
    "Let's see the path of our current directory:"
   ]
  },
  {
   "cell_type": "code",
   "execution_count": null,
   "metadata": {},
   "outputs": [],
   "source": []
  },
  {
   "cell_type": "markdown",
   "metadata": {},
   "source": [
    "Remember, our virtual machine launched in our `home` directory. \n",
    "```\n",
    "home/YOURCYVERSEUSERNAME/\n",
    "```\n",
    "\n",
    "Let's go back to `root`. This means we need to go up one directory. Use `cd`:"
   ]
  },
  {
   "cell_type": "code",
   "execution_count": null,
   "metadata": {},
   "outputs": [],
   "source": []
  },
  {
   "cell_type": "markdown",
   "metadata": {},
   "source": [
    "Check if we are in root by typing `pwd`:"
   ]
  },
  {
   "cell_type": "code",
   "execution_count": null,
   "metadata": {},
   "outputs": [],
   "source": []
  },
  {
   "cell_type": "markdown",
   "metadata": {},
   "source": [
    "Let's `ls` list our available files. Instead of `joslynn` below, enter **your CyVerse Username**.\n",
    "\n",
    "```\n",
    "ls home/joslynn/microbiome-data\n",
    "```"
   ]
  },
  {
   "cell_type": "code",
   "execution_count": null,
   "metadata": {},
   "outputs": [],
   "source": []
  },
  {
   "cell_type": "markdown",
   "metadata": {},
   "source": [
    "First, let's copy the Jupyter Notebook: `04-QIIME2-workflow.ipynb`\n",
    "```\n",
    "Usage:\n",
    "cp source-location-file new-location\n",
    "\n",
    "cp home/joslynn/microbiome-data/04-QIIME2-workflow.ipynb scratch\n",
    "```"
   ]
  },
  {
   "cell_type": "code",
   "execution_count": null,
   "metadata": {},
   "outputs": [],
   "source": []
  },
  {
   "cell_type": "markdown",
   "metadata": {},
   "source": [
    "Using the `ls` list command, show the contents of the `scratch` directory where we transferred the file."
   ]
  },
  {
   "cell_type": "code",
   "execution_count": null,
   "metadata": {},
   "outputs": [],
   "source": []
  },
  {
   "cell_type": "markdown",
   "metadata": {},
   "source": [
    "Next, let's copy the directory: `2018`. Here we need the `-r-` flag, a lowercase r. This is necessary to transfer all the contents of a directory.\n",
    "```\n",
    "Usage:\n",
    "cp -r source-location-directory new-location\n",
    "\n",
    "cp home/joslynn/microbiome-data/04-QIIME2-workflow.ipynb scratch\n",
    "```\n",
    "Our new location is the `scratch` directory. Remember we are in the `root` directory."
   ]
  },
  {
   "cell_type": "code",
   "execution_count": null,
   "metadata": {},
   "outputs": [],
   "source": []
  },
  {
   "cell_type": "markdown",
   "metadata": {},
   "source": [
    "Using the `ls` list command, show the contents of the `scratch` directory where we transferred the two item."
   ]
  },
  {
   "cell_type": "code",
   "execution_count": null,
   "metadata": {},
   "outputs": [],
   "source": []
  },
  {
   "cell_type": "markdown",
   "metadata": {},
   "source": [
    "If they are there! Let's go ahead and save this notebook and log-out."
   ]
  }
 ],
 "metadata": {
  "kernelspec": {
   "display_name": "Bash",
   "language": "bash",
   "name": "bash"
  },
  "language_info": {
   "codemirror_mode": "shell",
   "file_extension": ".sh",
   "mimetype": "text/x-sh",
   "name": "bash"
  }
 },
 "nbformat": 4,
 "nbformat_minor": 2
}
